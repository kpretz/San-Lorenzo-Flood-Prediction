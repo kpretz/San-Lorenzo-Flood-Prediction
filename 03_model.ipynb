{
 "cells": [
  {
   "cell_type": "code",
   "execution_count": 23,
   "id": "096bfc4b-4bdd-4fbe-8219-1fbfed9b4771",
   "metadata": {},
   "outputs": [],
   "source": [
    "import pandas as pd\n",
    "import seaborn as sns\n",
    "import matplotlib.pylab as plt\n",
    "import numpy as np\n",
    "\n",
    "from sklearn.model_selection import train_test_split\n",
    "from sklearn.model_selection import GridSearchCV\n",
    "from sklearn.metrics import mean_squared_error\n",
    "\n",
    "from sklearn.ensemble import RandomForestRegressor, GradientBoostingRegressor, AdaBoostRegressor, RandomForestClassifier\n",
    "from sklearn import tree\n",
    "from sklearn.preprocessing import FunctionTransformer, StandardScaler, MinMaxScaler\n",
    "\n",
    "from keras.models import Sequential\n",
    "from keras.layers import LSTM, Dense, Input\n",
    "\n",
    "import ee"
   ]
  },
  {
   "cell_type": "code",
   "execution_count": 24,
   "id": "e32a1df7-c074-41bc-a5ea-11d0062b3993",
   "metadata": {},
   "outputs": [
    {
     "data": {
      "text/html": [
       "<div>\n",
       "<style scoped>\n",
       "    .dataframe tbody tr th:only-of-type {\n",
       "        vertical-align: middle;\n",
       "    }\n",
       "\n",
       "    .dataframe tbody tr th {\n",
       "        vertical-align: top;\n",
       "    }\n",
       "\n",
       "    .dataframe thead th {\n",
       "        text-align: right;\n",
       "    }\n",
       "</style>\n",
       "<table border=\"1\" class=\"dataframe\">\n",
       "  <thead>\n",
       "    <tr style=\"text-align: right;\">\n",
       "      <th></th>\n",
       "      <th>precip_in_inc</th>\n",
       "      <th>precip_in_cum</th>\n",
       "      <th>stage_ft_BT</th>\n",
       "      <th>flood_stage_BT</th>\n",
       "      <th>stage_ft_SC</th>\n",
       "      <th>flood_stage_SC</th>\n",
       "      <th>ndwi_watershed_green_nir</th>\n",
       "      <th>q_cfs_peak_BT_int</th>\n",
       "      <th>q_cfs_peak_SC_int</th>\n",
       "      <th>cy</th>\n",
       "      <th>month</th>\n",
       "      <th>wy</th>\n",
       "      <th>D0</th>\n",
       "      <th>D1</th>\n",
       "      <th>D2</th>\n",
       "      <th>D3</th>\n",
       "      <th>D4</th>\n",
       "      <th>wildfire_percent</th>\n",
       "    </tr>\n",
       "  </thead>\n",
       "  <tbody>\n",
       "    <tr>\n",
       "      <th>2008-10-01 00:00:00</th>\n",
       "      <td>0.0</td>\n",
       "      <td>0.0</td>\n",
       "      <td>2.83</td>\n",
       "      <td>0.0</td>\n",
       "      <td>3.89</td>\n",
       "      <td>0.0</td>\n",
       "      <td>0.0</td>\n",
       "      <td>10.8</td>\n",
       "      <td>1.43</td>\n",
       "      <td>2008</td>\n",
       "      <td>10</td>\n",
       "      <td>2009</td>\n",
       "      <td>100.0</td>\n",
       "      <td>100.0</td>\n",
       "      <td>0.0</td>\n",
       "      <td>0.0</td>\n",
       "      <td>0.0</td>\n",
       "      <td>0.0</td>\n",
       "    </tr>\n",
       "    <tr>\n",
       "      <th>2008-10-01 00:15:00</th>\n",
       "      <td>0.0</td>\n",
       "      <td>0.0</td>\n",
       "      <td>2.83</td>\n",
       "      <td>0.0</td>\n",
       "      <td>3.88</td>\n",
       "      <td>0.0</td>\n",
       "      <td>0.0</td>\n",
       "      <td>10.8</td>\n",
       "      <td>1.26</td>\n",
       "      <td>2008</td>\n",
       "      <td>10</td>\n",
       "      <td>2009</td>\n",
       "      <td>100.0</td>\n",
       "      <td>100.0</td>\n",
       "      <td>0.0</td>\n",
       "      <td>0.0</td>\n",
       "      <td>0.0</td>\n",
       "      <td>0.0</td>\n",
       "    </tr>\n",
       "    <tr>\n",
       "      <th>2008-10-01 00:30:00</th>\n",
       "      <td>0.0</td>\n",
       "      <td>0.0</td>\n",
       "      <td>2.83</td>\n",
       "      <td>0.0</td>\n",
       "      <td>3.88</td>\n",
       "      <td>0.0</td>\n",
       "      <td>0.0</td>\n",
       "      <td>10.8</td>\n",
       "      <td>1.26</td>\n",
       "      <td>2008</td>\n",
       "      <td>10</td>\n",
       "      <td>2009</td>\n",
       "      <td>100.0</td>\n",
       "      <td>100.0</td>\n",
       "      <td>0.0</td>\n",
       "      <td>0.0</td>\n",
       "      <td>0.0</td>\n",
       "      <td>0.0</td>\n",
       "    </tr>\n",
       "    <tr>\n",
       "      <th>2008-10-01 00:45:00</th>\n",
       "      <td>0.0</td>\n",
       "      <td>0.0</td>\n",
       "      <td>2.83</td>\n",
       "      <td>0.0</td>\n",
       "      <td>3.88</td>\n",
       "      <td>0.0</td>\n",
       "      <td>0.0</td>\n",
       "      <td>10.8</td>\n",
       "      <td>1.26</td>\n",
       "      <td>2008</td>\n",
       "      <td>10</td>\n",
       "      <td>2009</td>\n",
       "      <td>100.0</td>\n",
       "      <td>100.0</td>\n",
       "      <td>0.0</td>\n",
       "      <td>0.0</td>\n",
       "      <td>0.0</td>\n",
       "      <td>0.0</td>\n",
       "    </tr>\n",
       "    <tr>\n",
       "      <th>2008-10-01 01:00:00</th>\n",
       "      <td>0.0</td>\n",
       "      <td>0.0</td>\n",
       "      <td>2.83</td>\n",
       "      <td>0.0</td>\n",
       "      <td>3.88</td>\n",
       "      <td>0.0</td>\n",
       "      <td>0.0</td>\n",
       "      <td>10.8</td>\n",
       "      <td>1.26</td>\n",
       "      <td>2008</td>\n",
       "      <td>10</td>\n",
       "      <td>2009</td>\n",
       "      <td>100.0</td>\n",
       "      <td>100.0</td>\n",
       "      <td>0.0</td>\n",
       "      <td>0.0</td>\n",
       "      <td>0.0</td>\n",
       "      <td>0.0</td>\n",
       "    </tr>\n",
       "  </tbody>\n",
       "</table>\n",
       "</div>"
      ],
      "text/plain": [
       "                     precip_in_inc  precip_in_cum  stage_ft_BT  \\\n",
       "2008-10-01 00:00:00            0.0            0.0         2.83   \n",
       "2008-10-01 00:15:00            0.0            0.0         2.83   \n",
       "2008-10-01 00:30:00            0.0            0.0         2.83   \n",
       "2008-10-01 00:45:00            0.0            0.0         2.83   \n",
       "2008-10-01 01:00:00            0.0            0.0         2.83   \n",
       "\n",
       "                     flood_stage_BT  stage_ft_SC  flood_stage_SC  \\\n",
       "2008-10-01 00:00:00             0.0         3.89             0.0   \n",
       "2008-10-01 00:15:00             0.0         3.88             0.0   \n",
       "2008-10-01 00:30:00             0.0         3.88             0.0   \n",
       "2008-10-01 00:45:00             0.0         3.88             0.0   \n",
       "2008-10-01 01:00:00             0.0         3.88             0.0   \n",
       "\n",
       "                     ndwi_watershed_green_nir  q_cfs_peak_BT_int  \\\n",
       "2008-10-01 00:00:00                       0.0               10.8   \n",
       "2008-10-01 00:15:00                       0.0               10.8   \n",
       "2008-10-01 00:30:00                       0.0               10.8   \n",
       "2008-10-01 00:45:00                       0.0               10.8   \n",
       "2008-10-01 01:00:00                       0.0               10.8   \n",
       "\n",
       "                     q_cfs_peak_SC_int    cy  month    wy     D0     D1   D2  \\\n",
       "2008-10-01 00:00:00               1.43  2008     10  2009  100.0  100.0  0.0   \n",
       "2008-10-01 00:15:00               1.26  2008     10  2009  100.0  100.0  0.0   \n",
       "2008-10-01 00:30:00               1.26  2008     10  2009  100.0  100.0  0.0   \n",
       "2008-10-01 00:45:00               1.26  2008     10  2009  100.0  100.0  0.0   \n",
       "2008-10-01 01:00:00               1.26  2008     10  2009  100.0  100.0  0.0   \n",
       "\n",
       "                      D3   D4  wildfire_percent  \n",
       "2008-10-01 00:00:00  0.0  0.0               0.0  \n",
       "2008-10-01 00:15:00  0.0  0.0               0.0  \n",
       "2008-10-01 00:30:00  0.0  0.0               0.0  \n",
       "2008-10-01 00:45:00  0.0  0.0               0.0  \n",
       "2008-10-01 01:00:00  0.0  0.0               0.0  "
      ]
     },
     "execution_count": 24,
     "metadata": {},
     "output_type": "execute_result"
    }
   ],
   "source": [
    "data = pd.read_csv('01_data.csv', index_col=0, parse_dates=True)\n",
    "data.head()"
   ]
  },
  {
   "cell_type": "markdown",
   "id": "d4a8b809-860a-4932-bdad-721273956a3d",
   "metadata": {},
   "source": [
    "## Random Forest Model\n",
    "Build Random forest model with several variables lagged, to get general idea of feature importance and model fit capabilities as a baseline. "
   ]
  },
  {
   "cell_type": "code",
   "execution_count": 25,
   "id": "48cb231a-befa-4dff-bda7-f9a0cdde6f14",
   "metadata": {},
   "outputs": [
    {
     "data": {
      "text/html": [
       "<div>\n",
       "<style scoped>\n",
       "    .dataframe tbody tr th:only-of-type {\n",
       "        vertical-align: middle;\n",
       "    }\n",
       "\n",
       "    .dataframe tbody tr th {\n",
       "        vertical-align: top;\n",
       "    }\n",
       "\n",
       "    .dataframe thead th {\n",
       "        text-align: right;\n",
       "    }\n",
       "</style>\n",
       "<table border=\"1\" class=\"dataframe\">\n",
       "  <thead>\n",
       "    <tr style=\"text-align: right;\">\n",
       "      <th></th>\n",
       "      <th>precip_in_inc</th>\n",
       "      <th>precip_in_cum</th>\n",
       "      <th>stage_ft_BT</th>\n",
       "      <th>flood_stage_BT</th>\n",
       "      <th>stage_ft_SC</th>\n",
       "      <th>flood_stage_SC</th>\n",
       "      <th>ndwi_watershed_green_nir</th>\n",
       "      <th>q_cfs_peak_BT_int</th>\n",
       "      <th>q_cfs_peak_SC_int</th>\n",
       "      <th>cy</th>\n",
       "      <th>...</th>\n",
       "      <th>lag_d0_4months</th>\n",
       "      <th>lag_d1_4months</th>\n",
       "      <th>lag_d2_4months</th>\n",
       "      <th>lag_d3_4months</th>\n",
       "      <th>lag_d4_4months</th>\n",
       "      <th>lag_precip_1days</th>\n",
       "      <th>lag_precip_2days</th>\n",
       "      <th>lag_precip_5days</th>\n",
       "      <th>lag_precip_14days</th>\n",
       "      <th>lag_precip_30days</th>\n",
       "    </tr>\n",
       "  </thead>\n",
       "  <tbody>\n",
       "    <tr>\n",
       "      <th>2008-10-01 07:30:00</th>\n",
       "      <td>0.0</td>\n",
       "      <td>0.0</td>\n",
       "      <td>2.85</td>\n",
       "      <td>0.0</td>\n",
       "      <td>3.86</td>\n",
       "      <td>0.0</td>\n",
       "      <td>0.0</td>\n",
       "      <td>11.7</td>\n",
       "      <td>1.11</td>\n",
       "      <td>2008</td>\n",
       "      <td>...</td>\n",
       "      <td>100.0</td>\n",
       "      <td>100.0</td>\n",
       "      <td>0.0</td>\n",
       "      <td>0.0</td>\n",
       "      <td>0.0</td>\n",
       "      <td>0.0</td>\n",
       "      <td>0.0</td>\n",
       "      <td>0.0</td>\n",
       "      <td>0.0</td>\n",
       "      <td>0.0</td>\n",
       "    </tr>\n",
       "    <tr>\n",
       "      <th>2008-10-01 07:45:00</th>\n",
       "      <td>0.0</td>\n",
       "      <td>0.0</td>\n",
       "      <td>2.85</td>\n",
       "      <td>0.0</td>\n",
       "      <td>3.85</td>\n",
       "      <td>0.0</td>\n",
       "      <td>0.0</td>\n",
       "      <td>11.7</td>\n",
       "      <td>1.11</td>\n",
       "      <td>2008</td>\n",
       "      <td>...</td>\n",
       "      <td>100.0</td>\n",
       "      <td>100.0</td>\n",
       "      <td>0.0</td>\n",
       "      <td>0.0</td>\n",
       "      <td>0.0</td>\n",
       "      <td>0.0</td>\n",
       "      <td>0.0</td>\n",
       "      <td>0.0</td>\n",
       "      <td>0.0</td>\n",
       "      <td>0.0</td>\n",
       "    </tr>\n",
       "    <tr>\n",
       "      <th>2008-10-01 08:00:00</th>\n",
       "      <td>0.0</td>\n",
       "      <td>0.0</td>\n",
       "      <td>2.85</td>\n",
       "      <td>0.0</td>\n",
       "      <td>3.85</td>\n",
       "      <td>0.0</td>\n",
       "      <td>0.0</td>\n",
       "      <td>11.7</td>\n",
       "      <td>1.11</td>\n",
       "      <td>2008</td>\n",
       "      <td>...</td>\n",
       "      <td>100.0</td>\n",
       "      <td>100.0</td>\n",
       "      <td>0.0</td>\n",
       "      <td>0.0</td>\n",
       "      <td>0.0</td>\n",
       "      <td>0.0</td>\n",
       "      <td>0.0</td>\n",
       "      <td>0.0</td>\n",
       "      <td>0.0</td>\n",
       "      <td>0.0</td>\n",
       "    </tr>\n",
       "    <tr>\n",
       "      <th>2008-10-01 08:15:00</th>\n",
       "      <td>0.0</td>\n",
       "      <td>0.0</td>\n",
       "      <td>2.86</td>\n",
       "      <td>0.0</td>\n",
       "      <td>3.85</td>\n",
       "      <td>0.0</td>\n",
       "      <td>0.0</td>\n",
       "      <td>12.2</td>\n",
       "      <td>1.11</td>\n",
       "      <td>2008</td>\n",
       "      <td>...</td>\n",
       "      <td>100.0</td>\n",
       "      <td>100.0</td>\n",
       "      <td>0.0</td>\n",
       "      <td>0.0</td>\n",
       "      <td>0.0</td>\n",
       "      <td>0.0</td>\n",
       "      <td>0.0</td>\n",
       "      <td>0.0</td>\n",
       "      <td>0.0</td>\n",
       "      <td>0.0</td>\n",
       "    </tr>\n",
       "    <tr>\n",
       "      <th>2008-10-01 08:30:00</th>\n",
       "      <td>0.0</td>\n",
       "      <td>0.0</td>\n",
       "      <td>2.86</td>\n",
       "      <td>0.0</td>\n",
       "      <td>3.85</td>\n",
       "      <td>0.0</td>\n",
       "      <td>0.0</td>\n",
       "      <td>12.2</td>\n",
       "      <td>1.11</td>\n",
       "      <td>2008</td>\n",
       "      <td>...</td>\n",
       "      <td>100.0</td>\n",
       "      <td>100.0</td>\n",
       "      <td>0.0</td>\n",
       "      <td>0.0</td>\n",
       "      <td>0.0</td>\n",
       "      <td>0.0</td>\n",
       "      <td>0.0</td>\n",
       "      <td>0.0</td>\n",
       "      <td>0.0</td>\n",
       "      <td>0.0</td>\n",
       "    </tr>\n",
       "  </tbody>\n",
       "</table>\n",
       "<p>5 rows × 47 columns</p>\n",
       "</div>"
      ],
      "text/plain": [
       "                     precip_in_inc  precip_in_cum  stage_ft_BT  \\\n",
       "2008-10-01 07:30:00            0.0            0.0         2.85   \n",
       "2008-10-01 07:45:00            0.0            0.0         2.85   \n",
       "2008-10-01 08:00:00            0.0            0.0         2.85   \n",
       "2008-10-01 08:15:00            0.0            0.0         2.86   \n",
       "2008-10-01 08:30:00            0.0            0.0         2.86   \n",
       "\n",
       "                     flood_stage_BT  stage_ft_SC  flood_stage_SC  \\\n",
       "2008-10-01 07:30:00             0.0         3.86             0.0   \n",
       "2008-10-01 07:45:00             0.0         3.85             0.0   \n",
       "2008-10-01 08:00:00             0.0         3.85             0.0   \n",
       "2008-10-01 08:15:00             0.0         3.85             0.0   \n",
       "2008-10-01 08:30:00             0.0         3.85             0.0   \n",
       "\n",
       "                     ndwi_watershed_green_nir  q_cfs_peak_BT_int  \\\n",
       "2008-10-01 07:30:00                       0.0               11.7   \n",
       "2008-10-01 07:45:00                       0.0               11.7   \n",
       "2008-10-01 08:00:00                       0.0               11.7   \n",
       "2008-10-01 08:15:00                       0.0               12.2   \n",
       "2008-10-01 08:30:00                       0.0               12.2   \n",
       "\n",
       "                     q_cfs_peak_SC_int    cy  ...  lag_d0_4months  \\\n",
       "2008-10-01 07:30:00               1.11  2008  ...           100.0   \n",
       "2008-10-01 07:45:00               1.11  2008  ...           100.0   \n",
       "2008-10-01 08:00:00               1.11  2008  ...           100.0   \n",
       "2008-10-01 08:15:00               1.11  2008  ...           100.0   \n",
       "2008-10-01 08:30:00               1.11  2008  ...           100.0   \n",
       "\n",
       "                     lag_d1_4months  lag_d2_4months  lag_d3_4months  \\\n",
       "2008-10-01 07:30:00           100.0             0.0             0.0   \n",
       "2008-10-01 07:45:00           100.0             0.0             0.0   \n",
       "2008-10-01 08:00:00           100.0             0.0             0.0   \n",
       "2008-10-01 08:15:00           100.0             0.0             0.0   \n",
       "2008-10-01 08:30:00           100.0             0.0             0.0   \n",
       "\n",
       "                     lag_d4_4months  lag_precip_1days  lag_precip_2days  \\\n",
       "2008-10-01 07:30:00             0.0               0.0               0.0   \n",
       "2008-10-01 07:45:00             0.0               0.0               0.0   \n",
       "2008-10-01 08:00:00             0.0               0.0               0.0   \n",
       "2008-10-01 08:15:00             0.0               0.0               0.0   \n",
       "2008-10-01 08:30:00             0.0               0.0               0.0   \n",
       "\n",
       "                     lag_precip_5days  lag_precip_14days  lag_precip_30days  \n",
       "2008-10-01 07:30:00               0.0                0.0                0.0  \n",
       "2008-10-01 07:45:00               0.0                0.0                0.0  \n",
       "2008-10-01 08:00:00               0.0                0.0                0.0  \n",
       "2008-10-01 08:15:00               0.0                0.0                0.0  \n",
       "2008-10-01 08:30:00               0.0                0.0                0.0  \n",
       "\n",
       "[5 rows x 47 columns]"
      ]
     },
     "execution_count": 25,
     "metadata": {},
     "output_type": "execute_result"
    }
   ],
   "source": [
    "data_rfr = data.copy()\n",
    "months_to_lag = [1, 2, 3, 4] \n",
    "drought_index_ints = [0, 1, 2, 3, 4]\n",
    "\n",
    "for m in months_to_lag:\n",
    "    data_rfr['lag_precip_' + str(m) + 'months'] = data_rfr['precip_in_inc'].shift(-30*m) # shift data back, 30 days in a month\n",
    "    for d in drought_index_ints:\n",
    "        data_rfr['lag_d' + str(d) + '_' + str(m) + 'months'] = data_rfr['D' + str(d)].shift(-30*m) #shift back data\n",
    "\n",
    "hours_to_lag = [1, 2, 5, 14, 30]\n",
    "for h in hours_to_lag:\n",
    "    data_rfr['lag_precip_' + str(h) + 'days'] = data_rfr['precip_in_inc'].shift(h) # shift data back h hours\n",
    "\n",
    "\n",
    "data_rfr.dropna(inplace=True) #drop null values created with shift functions - will be most recent 4 months\n",
    "data_rfr.head()\n"
   ]
  },
  {
   "cell_type": "code",
   "execution_count": 26,
   "id": "ec3af504-a88f-4c42-9049-9f55677ec061",
   "metadata": {},
   "outputs": [
    {
     "name": "stdout",
     "output_type": "stream",
     "text": [
      "training model score:  0.46438664306574284\n",
      "test model score:  0.4665003309563107\n"
     ]
    },
    {
     "data": {
      "text/plain": [
       "<Axes: >"
      ]
     },
     "execution_count": 26,
     "metadata": {},
     "output_type": "execute_result"
    },
    {
     "data": {
      "image/png": "[encoded data removed]",
      "text/plain": [
       "<Figure size 640x480 with 1 Axes>"
      ]
     },
     "metadata": {},
     "output_type": "display_data"
    }
   ],
   "source": [
    "X = data_rfr.drop(['stage_ft_BT', 'stage_ft_SC', 'flood_stage_SC', 'flood_stage_BT', 'q_cfs_peak_SC_int', 'q_cfs_peak_BT_int', 'cy'], axis=1)\n",
    "y = data_rfr['q_cfs_peak_SC_int']\n",
    "X_train_SC, X_test_SC, y_train_SC, y_test_SC = train_test_split(X, y, test_size=0.2, random_state=777)\n",
    "\n",
    "rfr = RandomForestRegressor(max_depth=5, n_estimators=100, random_state=777)\n",
    "rfr.fit(X_train_SC, y_train_SC)\n",
    "y_pred_SC = rfr.predict(X_test_SC)\n",
    "\n",
    "print('training model score: ', rfr.score(X_train_SC, y_train_SC))\n",
    "print('test model score: ', rfr.score(X_test_SC, y_test_SC))\n",
    "\n",
    "#next, we'll take a look at feature importance\n",
    "importances = rfr.feature_importances_\n",
    "forest_importances = pd.Series(importances, index=X_train_SC.columns)\n",
    "\n",
    "fig, ax = plt.subplots()\n",
    "forest_importances.sort_values().plot.bar(ax=ax)\n"
   ]
  },
  {
   "cell_type": "code",
   "execution_count": 27,
   "id": "465b8fff-e2da-45cc-8bc0-e7406bfde389",
   "metadata": {},
   "outputs": [
    {
     "name": "stdout",
     "output_type": "stream",
     "text": [
      "training model score:  0.4816408870159178\n",
      "test model score:  0.47401725337682277\n"
     ]
    },
    {
     "data": {
      "text/plain": [
       "<Axes: >"
      ]
     },
     "execution_count": 27,
     "metadata": {},
     "output_type": "execute_result"
    },
    {
     "data": {
      "image/png": "[encoded data removed]",
      "text/plain": [
       "<Figure size 640x480 with 1 Axes>"
      ]
     },
     "metadata": {},
     "output_type": "display_data"
    }
   ],
   "source": [
    "X = data_rfr.drop(['stage_ft_BT', 'stage_ft_SC', 'flood_stage_SC', 'flood_stage_BT', 'q_cfs_peak_SC_int', 'q_cfs_peak_BT_int', 'cy'], axis=1)\n",
    "y = data_rfr['q_cfs_peak_BT_int']\n",
    "X_train_BT, X_test_BT, y_train_BT, y_test_BT = train_test_split(X, y, test_size=0.2, random_state=777)\n",
    "\n",
    "rfr = RandomForestRegressor(max_depth=5, n_estimators=100, random_state=777)\n",
    "rfr.fit(X_train_BT, y_train_BT)\n",
    "y_pred_BT = rfr.predict(X_test_BT)\n",
    "print('training model score: ', rfr.score(X_train_BT, y_train_BT))\n",
    "print('test model score: ', rfr.score(X_test_BT, y_test_BT))\n",
    "\n",
    "#next, we'll take a look at feature importance\n",
    "importances = rfr.feature_importances_\n",
    "forest_importances = pd.Series(importances, index=X_train_BT.columns)\n",
    "\n",
    "fig, ax = plt.subplots()\n",
    "forest_importances.sort_values().plot.bar(ax=ax)\n"
   ]
  },
  {
   "cell_type": "code",
   "execution_count": 28,
   "id": "9f226e84-0b7f-48e1-b5df-fa2acdd82d0e",
   "metadata": {},
   "outputs": [
    {
     "data": {
      "text/plain": [
       "Text(0, 0.5, 'observed streamflow')"
      ]
     },
     "execution_count": 28,
     "metadata": {},
     "output_type": "execute_result"
    },
    {
     "data": {
      "image/png": "[encoded data removed]",
      "text/plain": [
       "<Figure size 1200x500 with 2 Axes>"
      ]
     },
     "metadata": {},
     "output_type": "display_data"
    }
   ],
   "source": [
    "## plot results\n",
    "f, (ax1, ax2) = plt.subplots(1, 2, figsize=(12, 5))\n",
    "\n",
    "ax1.scatter(y_pred_BT, y_test_BT)\n",
    "ax1.plot((0, 25000), (0, 25000), 'k', linestyle='--')\n",
    "ax1.set_xlabel('predicted streamflow')\n",
    "ax1.set_ylabel('observed streamflow')\n",
    "\n",
    "\n",
    "ax2.scatter(y_pred_SC, y_test_SC)\n",
    "ax2.plot((0, 25000), (0, 25000), 'k', linestyle='--')\n",
    "ax2.set_xlabel('predicted streamflow')\n",
    "ax2.set_ylabel('observed streamflow')"
   ]
  },
  {
   "cell_type": "markdown",
   "id": "25abdc04-7c52-4163-b4d0-3cdbbe2d5f9b",
   "metadata": {},
   "source": [
    "## RFR Results\n",
    "Most importance features are: \n",
    "- precip and lag of precip is obviously most important model feature.\n",
    "\n",
    "Model underpredicts flow peaks (typical of RFR)\n",
    "\n",
    "RFR model appears to explain 85% of model variability (R_squared), but overfits in the train period (r_squared for test is 0.65)\n",
    "Could possibly improve with different hyperparameters, but good first gut check model\n"
   ]
  },
  {
   "cell_type": "markdown",
   "id": "c60c5c80-5604-4faf-a13b-3120985974c8",
   "metadata": {},
   "source": [
    "## Random Forest Classifier of flood stage\n",
    "\n"
   ]
  },
  {
   "cell_type": "code",
   "execution_count": 31,
   "id": "a470b09c-c3f7-49f1-895c-09bb3a48593e",
   "metadata": {},
   "outputs": [
    {
     "data": {
      "text/plain": [
       "array([0. , 1. , 2. , 3. , 4. , 0.5])"
      ]
     },
     "execution_count": 31,
     "metadata": {},
     "output_type": "execute_result"
    }
   ],
   "source": [
    "y.unique()"
   ]
  },
  {
   "cell_type": "code",
   "execution_count": 29,
   "id": "f02d7dff-a4a9-4e0c-ae5b-f84774754d0d",
   "metadata": {},
   "outputs": [
    {
     "ename": "ValueError",
     "evalue": "Unknown label type: continuous. Maybe you are trying to fit a classifier, which expects discrete classes on a regression target with continuous values.",
     "output_type": "error",
     "traceback": [
      "\u001b[0;31m---------------------------------------------------------------------------\u001b[0m",
      "\u001b[0;31mValueError\u001b[0m                                Traceback (most recent call last)",
      "Cell \u001b[0;32mIn[29], line 9\u001b[0m\n\u001b[1;32m      6\u001b[0m X_train_SC, X_test_SC, y_train_SC, y_test_SC \u001b[38;5;241m=\u001b[39m train_test_split(X, y, test_size\u001b[38;5;241m=\u001b[39m\u001b[38;5;241m0.2\u001b[39m, random_state\u001b[38;5;241m=\u001b[39m\u001b[38;5;241m777\u001b[39m)\n\u001b[1;32m      8\u001b[0m rfc \u001b[38;5;241m=\u001b[39m RandomForestClassifier(max_depth\u001b[38;5;241m=\u001b[39m\u001b[38;5;241m5\u001b[39m, n_estimators\u001b[38;5;241m=\u001b[39m\u001b[38;5;241m100\u001b[39m, random_state\u001b[38;5;241m=\u001b[39m\u001b[38;5;241m777\u001b[39m)\n\u001b[0;32m----> 9\u001b[0m rfc\u001b[38;5;241m.\u001b[39mfit(X_train_SC, y_train_SC)\n\u001b[1;32m     10\u001b[0m y_pred_SC \u001b[38;5;241m=\u001b[39m rfc\u001b[38;5;241m.\u001b[39mpredict(X_test_SC)\n\u001b[1;32m     12\u001b[0m \u001b[38;5;28mprint\u001b[39m(\u001b[38;5;124m'\u001b[39m\u001b[38;5;124mtraining model score: \u001b[39m\u001b[38;5;124m'\u001b[39m, rfc\u001b[38;5;241m.\u001b[39mscore(X_train_SC, y_train_SC))\n",
      "File \u001b[0;32m/opt/miniconda3/lib/python3.12/site-packages/sklearn/base.py:1473\u001b[0m, in \u001b[0;36m_fit_context.<locals>.decorator.<locals>.wrapper\u001b[0;34m(estimator, *args, **kwargs)\u001b[0m\n\u001b[1;32m   1466\u001b[0m     estimator\u001b[38;5;241m.\u001b[39m_validate_params()\n\u001b[1;32m   1468\u001b[0m \u001b[38;5;28;01mwith\u001b[39;00m config_context(\n\u001b[1;32m   1469\u001b[0m     skip_parameter_validation\u001b[38;5;241m=\u001b[39m(\n\u001b[1;32m   1470\u001b[0m         prefer_skip_nested_validation \u001b[38;5;129;01mor\u001b[39;00m global_skip_validation\n\u001b[1;32m   1471\u001b[0m     )\n\u001b[1;32m   1472\u001b[0m ):\n\u001b[0;32m-> 1473\u001b[0m     \u001b[38;5;28;01mreturn\u001b[39;00m fit_method(estimator, \u001b[38;5;241m*\u001b[39margs, \u001b[38;5;241m*\u001b[39m\u001b[38;5;241m*\u001b[39mkwargs)\n",
      "File \u001b[0;32m/opt/miniconda3/lib/python3.12/site-packages/sklearn/ensemble/_forest.py:421\u001b[0m, in \u001b[0;36mBaseForest.fit\u001b[0;34m(self, X, y, sample_weight)\u001b[0m\n\u001b[1;32m    414\u001b[0m         \u001b[38;5;28;01mraise\u001b[39;00m \u001b[38;5;167;01mValueError\u001b[39;00m(\n\u001b[1;32m    415\u001b[0m             \u001b[38;5;124m\"\u001b[39m\u001b[38;5;124mSum of y is not strictly positive which \u001b[39m\u001b[38;5;124m\"\u001b[39m\n\u001b[1;32m    416\u001b[0m             \u001b[38;5;124m\"\u001b[39m\u001b[38;5;124mis necessary for Poisson regression.\u001b[39m\u001b[38;5;124m\"\u001b[39m\n\u001b[1;32m    417\u001b[0m         )\n\u001b[1;32m    419\u001b[0m \u001b[38;5;28mself\u001b[39m\u001b[38;5;241m.\u001b[39m_n_samples, \u001b[38;5;28mself\u001b[39m\u001b[38;5;241m.\u001b[39mn_outputs_ \u001b[38;5;241m=\u001b[39m y\u001b[38;5;241m.\u001b[39mshape\n\u001b[0;32m--> 421\u001b[0m y, expanded_class_weight \u001b[38;5;241m=\u001b[39m \u001b[38;5;28mself\u001b[39m\u001b[38;5;241m.\u001b[39m_validate_y_class_weight(y)\n\u001b[1;32m    423\u001b[0m \u001b[38;5;28;01mif\u001b[39;00m \u001b[38;5;28mgetattr\u001b[39m(y, \u001b[38;5;124m\"\u001b[39m\u001b[38;5;124mdtype\u001b[39m\u001b[38;5;124m\"\u001b[39m, \u001b[38;5;28;01mNone\u001b[39;00m) \u001b[38;5;241m!=\u001b[39m DOUBLE \u001b[38;5;129;01mor\u001b[39;00m \u001b[38;5;129;01mnot\u001b[39;00m y\u001b[38;5;241m.\u001b[39mflags\u001b[38;5;241m.\u001b[39mcontiguous:\n\u001b[1;32m    424\u001b[0m     y \u001b[38;5;241m=\u001b[39m np\u001b[38;5;241m.\u001b[39mascontiguousarray(y, dtype\u001b[38;5;241m=\u001b[39mDOUBLE)\n",
      "File \u001b[0;32m/opt/miniconda3/lib/python3.12/site-packages/sklearn/ensemble/_forest.py:831\u001b[0m, in \u001b[0;36mForestClassifier._validate_y_class_weight\u001b[0;34m(self, y)\u001b[0m\n\u001b[1;32m    830\u001b[0m \u001b[38;5;28;01mdef\u001b[39;00m \u001b[38;5;21m_validate_y_class_weight\u001b[39m(\u001b[38;5;28mself\u001b[39m, y):\n\u001b[0;32m--> 831\u001b[0m     check_classification_targets(y)\n\u001b[1;32m    833\u001b[0m     y \u001b[38;5;241m=\u001b[39m np\u001b[38;5;241m.\u001b[39mcopy(y)\n\u001b[1;32m    834\u001b[0m     expanded_class_weight \u001b[38;5;241m=\u001b[39m \u001b[38;5;28;01mNone\u001b[39;00m\n",
      "File \u001b[0;32m/opt/miniconda3/lib/python3.12/site-packages/sklearn/utils/multiclass.py:221\u001b[0m, in \u001b[0;36mcheck_classification_targets\u001b[0;34m(y)\u001b[0m\n\u001b[1;32m    213\u001b[0m y_type \u001b[38;5;241m=\u001b[39m type_of_target(y, input_name\u001b[38;5;241m=\u001b[39m\u001b[38;5;124m\"\u001b[39m\u001b[38;5;124my\u001b[39m\u001b[38;5;124m\"\u001b[39m)\n\u001b[1;32m    214\u001b[0m \u001b[38;5;28;01mif\u001b[39;00m y_type \u001b[38;5;129;01mnot\u001b[39;00m \u001b[38;5;129;01min\u001b[39;00m [\n\u001b[1;32m    215\u001b[0m     \u001b[38;5;124m\"\u001b[39m\u001b[38;5;124mbinary\u001b[39m\u001b[38;5;124m\"\u001b[39m,\n\u001b[1;32m    216\u001b[0m     \u001b[38;5;124m\"\u001b[39m\u001b[38;5;124mmulticlass\u001b[39m\u001b[38;5;124m\"\u001b[39m,\n\u001b[0;32m   (...)\u001b[0m\n\u001b[1;32m    219\u001b[0m     \u001b[38;5;124m\"\u001b[39m\u001b[38;5;124mmultilabel-sequences\u001b[39m\u001b[38;5;124m\"\u001b[39m,\n\u001b[1;32m    220\u001b[0m ]:\n\u001b[0;32m--> 221\u001b[0m     \u001b[38;5;28;01mraise\u001b[39;00m \u001b[38;5;167;01mValueError\u001b[39;00m(\n\u001b[1;32m    222\u001b[0m         \u001b[38;5;124mf\u001b[39m\u001b[38;5;124m\"\u001b[39m\u001b[38;5;124mUnknown label type: \u001b[39m\u001b[38;5;132;01m{\u001b[39;00my_type\u001b[38;5;132;01m}\u001b[39;00m\u001b[38;5;124m. Maybe you are trying to fit a \u001b[39m\u001b[38;5;124m\"\u001b[39m\n\u001b[1;32m    223\u001b[0m         \u001b[38;5;124m\"\u001b[39m\u001b[38;5;124mclassifier, which expects discrete classes on a \u001b[39m\u001b[38;5;124m\"\u001b[39m\n\u001b[1;32m    224\u001b[0m         \u001b[38;5;124m\"\u001b[39m\u001b[38;5;124mregression target with continuous values.\u001b[39m\u001b[38;5;124m\"\u001b[39m\n\u001b[1;32m    225\u001b[0m     )\n",
      "\u001b[0;31mValueError\u001b[0m: Unknown label type: continuous. Maybe you are trying to fit a classifier, which expects discrete classes on a regression target with continuous values."
     ]
    }
   ],
   "source": [
    "data_rfc = data_rfr.copy()\n",
    "\n",
    "\n",
    "X = data_rfc.drop(['stage_ft_BT', 'stage_ft_SC', 'flood_stage_SC', 'flood_stage_BT', 'q_cfs_peak_SC_int', 'q_cfs_peak_BT_int', 'cy'], axis=1)\n",
    "y = data_rfc['flood_stage_SC']\n",
    "X_train_SC, X_test_SC, y_train_SC, y_test_SC = train_test_split(X, y, test_size=0.2, random_state=777)\n",
    "\n",
    "rfc = RandomForestClassifier(max_depth=5, n_estimators=100, random_state=777)\n",
    "rfc.fit(X_train_SC, y_train_SC)\n",
    "y_pred_SC = rfc.predict(X_test_SC)\n",
    "\n",
    "print('training model score: ', rfc.score(X_train_SC, y_train_SC))\n",
    "print('test model score: ', rfc.score(X_test_SC, y_test_SC))\n",
    "\n",
    "#next, we'll take a look at feature importance\n",
    "importances = rfc.feature_importances_\n",
    "forest_importances = pd.Series(importances, index=X_train_SC.columns)\n",
    "\n",
    "fig, ax = plt.subplots()\n",
    "forest_importances.sort_values().plot.bar(ax=ax)\n"
   ]
  },
  {
   "cell_type": "code",
   "execution_count": null,
   "id": "2c20e426-4df8-416a-9555-93dae583f1bc",
   "metadata": {},
   "outputs": [],
   "source": [
    "X = data_rfc.drop(['stage_ft_BT', 'stage_ft_SC', 'flood_stage_SC', 'flood_stage_BT', 'q_cfs_peak_SC_int', 'q_cfs_peak_BT_int', 'cy'], axis=1)\n",
    "y = data_rfc['flood_stage_BT']\n",
    "X_train_BT, X_test_BT, y_train_BT, y_test_BT = train_test_split(X, y, test_size=0.7, random_state=777)\n",
    "\n",
    "rfc_BT = RandomForestClassifier()\n",
    "rfc_BT.fit(X_train_BT, y_train_BT)\n",
    "y_pred_BT = rfc_BT.predict(X_test_BT)\n",
    "print('training model score: ', rfc_BT.score(X_train_BT, y_train_BT))\n",
    "print('test model score: ', rfc_BT.score(X_test_BT, y_test_BT))\n",
    "\n",
    "#next, we'll take a look at feature importance\n",
    "importances = rfc_BT.feature_importances_\n",
    "forest_importances = pd.Series(importances, index=X_train_BT.columns)\n",
    "\n",
    "fig, ax = plt.subplots()\n",
    "forest_importances.sort_values().plot.bar(ax=ax)\n"
   ]
  },
  {
   "cell_type": "code",
   "execution_count": null,
   "id": "032a5c33-fb44-405e-a28a-69a73b8a8e5c",
   "metadata": {},
   "outputs": [],
   "source": [
    "X\n",
    "# X_train_BT"
   ]
  },
  {
   "cell_type": "code",
   "execution_count": null,
   "id": "27798dd1-854d-4a0d-99cd-aa4f41333a5c",
   "metadata": {},
   "outputs": [],
   "source": [
    "## plot results\n",
    "f, (ax1, ax2) = plt.subplots(1, 2, figsize=(12, 5))\n",
    "\n",
    "ax1.scatter(y_pred_BT, y_test_BT)\n",
    "ax1.plot((0, 4), (0, 4), 'k', linestyle='--')\n",
    "ax1.set_xlabel('predicted flood stage')\n",
    "ax1.set_ylabel('observed flood stage')\n",
    "\n",
    "\n",
    "ax2.scatter(y_pred_SC, y_test_SC)\n",
    "ax2.plot((0, 4), (0, 4), 'k', linestyle='--')\n",
    "ax2.set_xlabel('predicted flood stage')\n",
    "ax2.set_ylabel('observed flood stage')"
   ]
  },
  {
   "cell_type": "markdown",
   "id": "2c0c1d01-46e8-4099-be04-79e2d6565ad1",
   "metadata": {},
   "source": [
    "## LSTM Model\n",
    "\n"
   ]
  },
  {
   "cell_type": "code",
   "execution_count": null,
   "id": "aad1968c-4126-4e98-910b-1026ce7108ac",
   "metadata": {},
   "outputs": [],
   "source": [
    "target = 'q_cfs_peak_BT_int'"
   ]
  },
  {
   "cell_type": "code",
   "execution_count": null,
   "id": "8212b71f-05ac-4bd2-b680-48783b2a408d",
   "metadata": {},
   "outputs": [],
   "source": [
    "data_lstm = data.copy()\n",
    "\n",
    "#have 15 years of data, split to train/test on 10/5 years. last 5 years include one wet, one dry, and 3 middlish years, so good variety to test on\n",
    "data_lstm_test = data_lstm.loc[data_lstm.wy >= 2019, :] \n",
    "data_lstm_train = data_lstm.loc[data_lstm.wy < 2019, :]\n",
    "\n",
    "X_train = data_lstm_train.drop(['stage_ft_BT', 'stage_ft_SC', 'flood_stage_SC', 'flood_stage_BT', 'q_cfs_peak_SC_int', 'q_cfs_peak_BT_int', 'cy', 'wy', 'month'], axis=1)\n",
    "X_test = data_lstm_test.drop(['stage_ft_BT', 'stage_ft_SC', 'flood_stage_SC', 'flood_stage_BT', 'q_cfs_peak_SC_int', 'q_cfs_peak_BT_int', 'cy', 'wy', 'month'], axis=1)\n",
    "## scale x data\n",
    "scaler = MinMaxScaler().set_output(transform=\"pandas\")\n",
    "X_train = scaler.fit_transform(X_train)\n",
    "X_test = scaler.transform(X_test)\n",
    "\n",
    "y_train = data_lstm_train[target]\n",
    "y_test = data_lstm_test[target]\n",
    "\n",
    "scaler = MinMaxScaler().set_output(transform=\"pandas\")\n",
    "y_train = np.log(y_train)\n",
    "y_test = np.log(y_test)\n",
    "\n",
    "\n",
    "\n"
   ]
  },
  {
   "cell_type": "code",
   "execution_count": null,
   "id": "a103ddd8-41fa-4103-8436-f8e405031a14",
   "metadata": {},
   "outputs": [],
   "source": [
    "#separate sequences from x and y data. \n",
    "\n",
    "def split_sequence(sequence, n_steps, target):\n",
    "    X_out, y_out = list(), list() # initialize output\n",
    "\n",
    "    for n in range(len(sequence) - n_steps + 1): #step through data, skipping last n_steps rows so all sequences are same size\n",
    "        this_batch = sequence.iloc[n:n+n_steps, :]\n",
    "        X_out.append(this_batch.drop([target], axis=1))\n",
    "        y_out.append(this_batch[target])\n",
    "\n",
    "    return np.array(X_out), np.array(y_out)"
   ]
  },
  {
   "cell_type": "code",
   "execution_count": null,
   "id": "80b901ce-c2cb-4f84-8ab1-5bf4071a8e77",
   "metadata": {},
   "outputs": [],
   "source": [
    "#recombine X, y after scaling to make sure sequences are calculated correctly\n",
    "xy_train = pd.concat([X_train, y_train], axis=1)\n",
    "xy_test = pd.concat([X_test, y_test], axis=1)\n",
    "n_steps = 240\n",
    "X_train_seq, y_train_seq = split_sequence(xy_train, n_steps, target)\n",
    "X_test_seq, y_test_seq = split_sequence(xy_test, n_steps, target)"
   ]
  },
  {
   "cell_type": "code",
   "execution_count": null,
   "id": "73aa4902-18b4-4427-8250-76dac72f453b",
   "metadata": {},
   "outputs": [],
   "source": [
    "model = Sequential()\n",
    "# col_num = np.array(X_train).shape[2]\n",
    "# input_shape = (batch_size, time_steps, number_of_features)\n",
    "#number_of_features = # of cols\n",
    "# timesteps = window size \n",
    "# batch_size how many samples are input once reshaped\n",
    "model.add(Input(shape=(X_train_seq.shape[1], X_train_seq.shape[2]))) #input shape\n",
    "model.add(LSTM(100, return_sequences=True, go_backwards=True))\n",
    "model.add(LSTM(100, return_sequences=True, go_backwards=False))\n",
    "model.add(LSTM(50))\n",
    "model.add(Dense(1)) #output layer\n",
    "model.compile(optimizer='adam', loss='mean_squared_logarithmic_error')\n",
    "model.fit(X_train_seq, y_train_seq, epochs=5)"
   ]
  },
  {
   "cell_type": "code",
   "execution_count": null,
   "id": "13839ca2-97aa-4557-9b6c-4b0430aba9fe",
   "metadata": {},
   "outputs": [],
   "source": [
    "y_pred = model.predict(X_test_seq)"
   ]
  },
  {
   "cell_type": "code",
   "execution_count": null,
   "id": "36b26580-1929-480d-9a51-b6905af97b13",
   "metadata": {},
   "outputs": [],
   "source": [
    "f, ax = plt.subplots(1, 1)\n",
    "ax.plot(y_train)\n",
    "ax.plot(xy_train.index, y_train)\n",
    "\n",
    "f, ax = plt.subplots(1, 1)\n",
    "ax.plot(y_test)\n",
    "ax.plot(xy_test.index[n_steps-1::], y_pred)"
   ]
  },
  {
   "cell_type": "markdown",
   "id": "de980f84-f6db-41a6-9a8b-44f1eca558fa",
   "metadata": {},
   "source": [
    "## Daily Model"
   ]
  },
  {
   "cell_type": "code",
   "execution_count": null,
   "id": "95be2f4c-2b37-4974-8071-e25536c88f6c",
   "metadata": {},
   "outputs": [],
   "source": [
    "data_lstm = data.resample('1d').median()\n",
    "\n",
    "#have 15 years of data, split to train/test on 10/5 years. last 5 years include one wet, one dry, and 3 middlish years, so good variety to test on\n",
    "data_lstm_test = data_lstm.loc[data_lstm.wy >= 2019, :] \n",
    "data_lstm_train = data_lstm.loc[data_lstm.wy < 2019, :]\n",
    "\n",
    "X_train = data_lstm_train.drop(['q_cfs_peak_SC_int', 'q_cfs_peak_BT_int', 'cy', 'wy', 'month'], axis=1)\n",
    "X_test = data_lstm_test.drop(['q_cfs_peak_SC_int', 'q_cfs_peak_BT_int', 'cy', 'wy', 'month'], axis=1)\n",
    "## scale x data\n",
    "scaler = MinMaxScaler().set_output(transform=\"pandas\")\n",
    "X_train = scaler.fit_transform(X_train)\n",
    "X_test = scaler.transform(X_test)\n",
    "\n",
    "y_train = data_lstm_train['q_cfs_peak_SC_int']\n",
    "y_test = data_lstm_test['q_cfs_peak_SC_int']\n",
    "\n",
    "scaler = MinMaxScaler().set_output(transform=\"pandas\")\n",
    "y_train = np.log(y_train)\n",
    "y_test = np.log(y_test)"
   ]
  },
  {
   "cell_type": "code",
   "execution_count": null,
   "id": "9388ac3d-eafb-4a5e-a7bd-ed4a0ac31949",
   "metadata": {},
   "outputs": [],
   "source": [
    "#recombine X, y after scaling to make sure sequences are calculated correctly\n",
    "xy_train = pd.concat([X_train, y_train], axis=1)\n",
    "xy_test = pd.concat([X_test, y_test], axis=1)\n",
    "n_steps = 240\n",
    "X_train_seq, y_train_seq = split_sequence(xy_train, n_steps, 'q_cfs_peak_SC_int')\n",
    "X_test_seq, y_test_seq = split_sequence(xy_test, n_steps, 'q_cfs_peak_SC_int')"
   ]
  },
  {
   "cell_type": "code",
   "execution_count": null,
   "id": "05a7197d-129e-41df-9a4e-ebfac857aa38",
   "metadata": {},
   "outputs": [],
   "source": [
    "model = Sequential()\n",
    "# col_num = np.array(X_train).shape[2]\n",
    "# input_shape = (batch_size, time_steps, number_of_features)\n",
    "#number_of_features = # of cols\n",
    "# timesteps = window size \n",
    "# batch_size how many samples are input once reshaped\n",
    "model.add(Input(shape=(X_train_seq.shape[1], X_train_seq.shape[2]))) #input shape\n",
    "model.add(LSTM(100, return_sequences=True, go_backwards=True))\n",
    "model.add(LSTM(100, return_sequences=True, go_backwards=False))\n",
    "model.add(LSTM(50))\n",
    "model.add(Dense(1)) #output layer\n",
    "model.compile(optimizer='adam', loss='mean_squared_logarithmic_error')\n",
    "model.fit(X_train_seq, y_train_seq, epochs=10)"
   ]
  },
  {
   "cell_type": "code",
   "execution_count": null,
   "id": "60987fdf-7b15-4d6f-96e9-3f03a0806211",
   "metadata": {},
   "outputs": [],
   "source": [
    "y_pred = model.predict(X_test_seq)"
   ]
  },
  {
   "cell_type": "code",
   "execution_count": null,
   "id": "7cc036cd-f1b5-4ca6-8083-853709f2d156",
   "metadata": {},
   "outputs": [],
   "source": [
    "f, ax = plt.subplots(1, 1)\n",
    "ax.plot(y_train)\n",
    "ax.plot(xy_train.index, y_train)\n",
    "\n",
    "f, ax = plt.subplots(1, 1)\n",
    "ax.plot(y_test)\n",
    "ax.plot(xy_test.index[n_steps-1::], y_pred)"
   ]
  },
  {
   "cell_type": "markdown",
   "id": "1fcfdf51-ee7f-4532-8a8f-c081f96df045",
   "metadata": {},
   "source": [
    "## Summary of work"
   ]
  },
  {
   "cell_type": "markdown",
   "id": "d1828f89-1e0f-4fb9-8bb3-37173d28d6a3",
   "metadata": {},
   "source": [
    "## Next steps\n",
    "- maybe switch model to daily?\n",
    "- train model on longer period\n",
    "- add in cumulative precip"
   ]
  },
  {
   "cell_type": "markdown",
   "id": "99dc7f07-63c7-4e69-ac61-488724168a4c",
   "metadata": {},
   "source": [
    "#### LSTM Resources Used for this notebook\n",
    "\n",
    "- https://github.com/MohammadFneish7/Keras_LSTM_Diagram\n",
    "- https://machinelearningmastery.com/how-to-develop-lstm-models-for-time-series-forecasting/\n",
    "- https://gabenosek.medium.com/time-series-stock-prediction-with-lstm-eb04f2224c22\n"
   ]
  }
 ],
 "metadata": {
  "kernelspec": {
   "display_name": "Python 3 (ipykernel)",
   "language": "python",
   "name": "python3"
  },
  "language_info": {
   "codemirror_mode": {
    "name": "ipython",
    "version": 3
   },
   "file_extension": ".py",
   "mimetype": "text/x-python",
   "name": "python",
   "nbconvert_exporter": "python",
   "pygments_lexer": "ipython3",
   "version": "3.12.3"
  }
 },
 "nbformat": 4,
 "nbformat_minor": 5
}
